{
 "cells": [
  {
   "cell_type": "code",
   "execution_count": 13,
   "metadata": {},
   "outputs": [],
   "source": [
    "import cv2\n",
    "import numpy as np"
   ]
  },
  {
   "cell_type": "code",
   "execution_count": 14,
   "metadata": {},
   "outputs": [
    {
     "name": "stdout",
     "output_type": "stream",
     "text": [
      "[[[136 155 198]\n",
      "  [136 155 198]\n",
      "  [136 155 198]\n",
      "  ...\n",
      "  [163 177 183]\n",
      "  [163 177 183]\n",
      "  [163 177 183]]\n",
      "\n",
      " [[136 155 198]\n",
      "  [136 155 198]\n",
      "  [136 155 198]\n",
      "  ...\n",
      "  [159 173 179]\n",
      "  [159 173 179]\n",
      "  [159 173 179]]\n",
      "\n",
      " [[136 155 198]\n",
      "  [136 155 198]\n",
      "  [136 155 198]\n",
      "  ...\n",
      "  [157 171 177]\n",
      "  [157 171 177]\n",
      "  [157 171 177]]\n",
      "\n",
      " ...\n",
      "\n",
      " [[  4   0   0]\n",
      "  [  5   0   1]\n",
      "  [  6   1   2]\n",
      "  ...\n",
      "  [ 74  73 112]\n",
      "  [ 73  72 111]\n",
      "  [ 72  71 110]]\n",
      "\n",
      " [[  4   0   0]\n",
      "  [  6   1   2]\n",
      "  [  8   3   4]\n",
      "  ...\n",
      "  [ 72  71 110]\n",
      "  [ 71  70 109]\n",
      "  [ 71  70 109]]\n",
      "\n",
      " [[  4   0   0]\n",
      "  [  4   0   0]\n",
      "  [  4   0   0]\n",
      "  ...\n",
      "  [ 74  73 112]\n",
      "  [ 74  73 112]\n",
      "  [ 73  72 111]]]\n"
     ]
    }
   ],
   "source": [
    "image = cv2.imread(\"Lucy.jpg\")\n",
    "print(image)"
   ]
  },
  {
   "cell_type": "code",
   "execution_count": 15,
   "metadata": {},
   "outputs": [
    {
     "data": {
      "text/plain": [
       "(1625, 2268, 3)"
      ]
     },
     "execution_count": 15,
     "metadata": {},
     "output_type": "execute_result"
    }
   ],
   "source": [
    "image.shape"
   ]
  },
  {
   "cell_type": "code",
   "execution_count": 16,
   "metadata": {},
   "outputs": [
    {
     "data": {
      "text/plain": [
       "-1"
      ]
     },
     "execution_count": 16,
     "metadata": {},
     "output_type": "execute_result"
    }
   ],
   "source": [
    "cv2.imshow(\"cat\", image)\n",
    "cv2.waitKey(0)"
   ]
  },
  {
   "cell_type": "markdown",
   "metadata": {},
   "source": [
    "RGB (0, 1, 2)"
   ]
  },
  {
   "cell_type": "code",
   "execution_count": 19,
   "metadata": {},
   "outputs": [],
   "source": [
    "green_image=image[:,:,1]"
   ]
  },
  {
   "cell_type": "code",
   "execution_count": 18,
   "metadata": {},
   "outputs": [
    {
     "data": {
      "text/plain": [
       "-1"
      ]
     },
     "execution_count": 18,
     "metadata": {},
     "output_type": "execute_result"
    }
   ],
   "source": [
    "cv2.imshow(\"greencat\", green_image)\n",
    "cv2.waitKey(0)"
   ]
  },
  {
   "cell_type": "code",
   "execution_count": 20,
   "metadata": {},
   "outputs": [
    {
     "data": {
      "text/plain": [
       "True"
      ]
     },
     "execution_count": 20,
     "metadata": {},
     "output_type": "execute_result"
    }
   ],
   "source": [
    "cv2.imwrite(\"lucy_green.jpg\", green_image)"
   ]
  },
  {
   "cell_type": "code",
   "execution_count": 24,
   "metadata": {},
   "outputs": [],
   "source": [
    "cv2.destroyAllWindows()"
   ]
  }
 ],
 "metadata": {
  "kernelspec": {
   "display_name": "Python 3",
   "language": "python",
   "name": "python3"
  },
  "language_info": {
   "codemirror_mode": {
    "name": "ipython",
    "version": 3
   },
   "file_extension": ".py",
   "mimetype": "text/x-python",
   "name": "python",
   "nbconvert_exporter": "python",
   "pygments_lexer": "ipython3",
   "version": "3.13.1"
  }
 },
 "nbformat": 4,
 "nbformat_minor": 2
}
